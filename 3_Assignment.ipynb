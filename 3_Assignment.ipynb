{
 "cells": [
  {
   "cell_type": "markdown",
   "metadata": {},
   "source": [
    "#### Data Processing with Python"
   ]
  },
  {
   "cell_type": "code",
   "metadata": {
    "ExecuteTime": {
     "end_time": "2025-06-20T10:24:02.223288Z",
     "start_time": "2025-06-20T10:23:57.387827Z"
    }
   },
   "source": [
    "import pandas as pd"
   ],
   "outputs": [],
   "execution_count": 1
  },
  {
   "cell_type": "markdown",
   "metadata": {},
   "source": [
    "<hr>\n",
    "###### IN CASE OF PROBLEMS IMPORTING PACKAGES\n"
   ]
  },
  {
   "cell_type": "code",
   "execution_count": null,
   "metadata": {},
   "outputs": [],
   "source": [
    "# SOLUTION A: select this cell and type Shift-Enter to execute the code below.\n",
    "\n",
    "%conda install openpyxl pandas\n",
    "\n",
    "# Now restart the kernel (Menu -> Kernel -> Restart Kernel)"
   ]
  },
  {
   "cell_type": "code",
   "execution_count": null,
   "metadata": {},
   "outputs": [],
   "source": [
    "# SOLUTION B: select this cell and type Shift-Enter to execute the code below.\n",
    "\n",
    "%pip install openpyxl pandas\n",
    "\n",
    "# Now restart the kernel (Menu -> Kernel -> Restart Kernel)"
   ]
  },
  {
   "cell_type": "markdown",
   "metadata": {},
   "source": [
    "<hr>"
   ]
  },
  {
   "cell_type": "markdown",
   "metadata": {},
   "source": [
    "# 3. Assignment: Exam examiner\n",
    "\n",
    "This assignment is designed to give you more practice with the pandas tools we have looked at so far.\n",
    "\n",
    "* Allow *up to one hour* to work through the tasks. \n",
    "* It doesn't matter if you don't complete it.\n",
    "* You are welcome to team up to tackle it in groups, or work individually.\n",
    "* It won't be marked.\n"
   ]
  },
  {
   "cell_type": "markdown",
   "metadata": {},
   "source": [
    "### Guidance\n",
    "\n",
    "You may find the following [DataFrame methods](https://pandas.pydata.org/pandas-docs/stable/reference/frame.html) useful:\n",
    "\n",
    "[`drop_duplicates`](https://pandas.pydata.org/pandas-docs/stable/reference/api/pandas.DataFrame.drop_duplicates.html), [`dropna`](https://pandas.pydata.org/pandas-docs/stable/reference/api/pandas.DataFrame.dropna.html), [`join`](https://pandas.pydata.org/pandas-docs/stable/reference/api/pandas.DataFrame.join.html), [`melt`](https://pandas.pydata.org/pandas-docs/stable/reference/api/pandas.DataFrame.melt.html), [`str.split`](https://pandas.pydata.org/pandas-docs/stable/reference/api/pandas.Series.str.split.html)\n",
    "\n",
    "`join` can combine DataFrames in many ways and will be introduced properly in the next session.\n",
    "\n",
    "For now, you just need to know that it if two DataFrames `a` and `b` have the same index, you can construct a new DataFrame containing both sets of columns using `a.join(b)`:"
   ]
  },
  {
   "cell_type": "code",
   "metadata": {
    "ExecuteTime": {
     "end_time": "2025-06-20T11:15:17.507325Z",
     "start_time": "2025-06-20T11:15:17.496829Z"
    }
   },
   "source": [
    "a = pd.DataFrame( { 'x':[1,2,3,4,5]  } )\n",
    "b = pd.DataFrame( { 'y':[10,20,30,40,50], 'z':[True,False,False,True,True] } )\n",
    "a.join(b)"
   ],
   "outputs": [
    {
     "data": {
      "text/plain": [
       "   x   y      z\n",
       "0  1  10   True\n",
       "1  2  20  False\n",
       "2  3  30  False\n",
       "3  4  40   True\n",
       "4  5  50   True"
      ],
      "text/html": [
       "<div>\n",
       "<style scoped>\n",
       "    .dataframe tbody tr th:only-of-type {\n",
       "        vertical-align: middle;\n",
       "    }\n",
       "\n",
       "    .dataframe tbody tr th {\n",
       "        vertical-align: top;\n",
       "    }\n",
       "\n",
       "    .dataframe thead th {\n",
       "        text-align: right;\n",
       "    }\n",
       "</style>\n",
       "<table border=\"1\" class=\"dataframe\">\n",
       "  <thead>\n",
       "    <tr style=\"text-align: right;\">\n",
       "      <th></th>\n",
       "      <th>x</th>\n",
       "      <th>y</th>\n",
       "      <th>z</th>\n",
       "    </tr>\n",
       "  </thead>\n",
       "  <tbody>\n",
       "    <tr>\n",
       "      <th>0</th>\n",
       "      <td>1</td>\n",
       "      <td>10</td>\n",
       "      <td>True</td>\n",
       "    </tr>\n",
       "    <tr>\n",
       "      <th>1</th>\n",
       "      <td>2</td>\n",
       "      <td>20</td>\n",
       "      <td>False</td>\n",
       "    </tr>\n",
       "    <tr>\n",
       "      <th>2</th>\n",
       "      <td>3</td>\n",
       "      <td>30</td>\n",
       "      <td>False</td>\n",
       "    </tr>\n",
       "    <tr>\n",
       "      <th>3</th>\n",
       "      <td>4</td>\n",
       "      <td>40</td>\n",
       "      <td>True</td>\n",
       "    </tr>\n",
       "    <tr>\n",
       "      <th>4</th>\n",
       "      <td>5</td>\n",
       "      <td>50</td>\n",
       "      <td>True</td>\n",
       "    </tr>\n",
       "  </tbody>\n",
       "</table>\n",
       "</div>"
      ]
     },
     "execution_count": 5,
     "metadata": {},
     "output_type": "execute_result"
    }
   ],
   "execution_count": 5
  },
  {
   "cell_type": "markdown",
   "metadata": {},
   "source": [
    "### The tasks\n",
    "\n",
    "The file `exam_results.xlsx` contains data about some (fictional) students taking modules in a (fictional) Physics department."
   ]
  },
  {
   "cell_type": "markdown",
   "metadata": {},
   "source": [
    "Load the data with pandas. What are the observations and variables in this table?\n",
    "- Variables: Student ID, Surname, Forename, Degree Programme, Module, 2019, 2020\n",
    "- Observations: Each row represents a student's exam results for a specific module in a specific year."
   ]
  },
  {
   "cell_type": "code",
   "metadata": {
    "ExecuteTime": {
     "end_time": "2025-06-20T12:56:59.392158Z",
     "start_time": "2025-06-20T12:56:59.362802Z"
    }
   },
   "source": [
    "exam = pd.read_excel(\"exam_results.xlsx\")\n",
    "\n"
   ],
   "outputs": [],
   "execution_count": 43
  },
  {
   "cell_type": "markdown",
   "metadata": {},
   "source": [
    "2. Tidy the data."
   ]
  },
  {
   "cell_type": "code",
   "metadata": {
    "ExecuteTime": {
     "end_time": "2025-06-20T12:57:02.240895Z",
     "start_time": "2025-06-20T12:57:02.214117Z"
    }
   },
   "source": [
    "#Split Degree Programme into two columns: Degree and Programme and drop the original Degree Programme column.\n",
    "exam[['Degree', 'Programme']] = exam['Degree Programme'].str.split(' ', n=1, expand=True)\n",
    "exam.drop(columns=['Degree Programme'], inplace=True)\n",
    "\n",
    "exam\n"
   ],
   "outputs": [
    {
     "data": {
      "text/plain": [
       "    Student Code  Surname     Forename             Module  2019  2020 Degree  \\\n",
       "0           2103   Lemarr  Charlesetta  Quantum Mechanics  54.0   NaN   MSci   \n",
       "1           2103   Lemarr  Charlesetta         Relativity   NaN  86.0   MSci   \n",
       "2           2104   Narron       Elliot  Quantum Mechanics   NaN  72.0   MSci   \n",
       "3           2104   Narron       Elliot         Relativity  79.0   NaN   MSci   \n",
       "4           2105  Seevers        Josue         Relativity   NaN  57.0    BSc   \n",
       "5           2106     Zipp      Delbert  Quantum Mechanics  72.0   NaN    BSc   \n",
       "6           2106     Zipp      Delbert         Relativity  30.0  55.0    BSc   \n",
       "7           2107   Tunney        Veola  Quantum Mechanics   NaN  77.0    BSc   \n",
       "8           2107   Tunney        Veola         Relativity   NaN  83.0    BSc   \n",
       "9           2108     Beal     Catalina  Quantum Mechanics   NaN  88.0   MSci   \n",
       "10          2108     Beal     Catalina         Relativity  90.0   NaN   MSci   \n",
       "11          2109   Arjona       Jerome  Quantum Mechanics   NaN  26.0    BSc   \n",
       "\n",
       "                    Programme  \n",
       "0                     Physics  \n",
       "1                     Physics  \n",
       "2                     Physics  \n",
       "3                     Physics  \n",
       "4         French with Physics  \n",
       "5          Physics with Maths  \n",
       "6          Physics with Maths  \n",
       "7   Physics with Astrophysics  \n",
       "8   Physics with Astrophysics  \n",
       "9          Maths with Physics  \n",
       "10         Maths with Physics  \n",
       "11  Physics with Astrophysics  "
      ],
      "text/html": [
       "<div>\n",
       "<style scoped>\n",
       "    .dataframe tbody tr th:only-of-type {\n",
       "        vertical-align: middle;\n",
       "    }\n",
       "\n",
       "    .dataframe tbody tr th {\n",
       "        vertical-align: top;\n",
       "    }\n",
       "\n",
       "    .dataframe thead th {\n",
       "        text-align: right;\n",
       "    }\n",
       "</style>\n",
       "<table border=\"1\" class=\"dataframe\">\n",
       "  <thead>\n",
       "    <tr style=\"text-align: right;\">\n",
       "      <th></th>\n",
       "      <th>Student Code</th>\n",
       "      <th>Surname</th>\n",
       "      <th>Forename</th>\n",
       "      <th>Module</th>\n",
       "      <th>2019</th>\n",
       "      <th>2020</th>\n",
       "      <th>Degree</th>\n",
       "      <th>Programme</th>\n",
       "    </tr>\n",
       "  </thead>\n",
       "  <tbody>\n",
       "    <tr>\n",
       "      <th>0</th>\n",
       "      <td>2103</td>\n",
       "      <td>Lemarr</td>\n",
       "      <td>Charlesetta</td>\n",
       "      <td>Quantum Mechanics</td>\n",
       "      <td>54.0</td>\n",
       "      <td>NaN</td>\n",
       "      <td>MSci</td>\n",
       "      <td>Physics</td>\n",
       "    </tr>\n",
       "    <tr>\n",
       "      <th>1</th>\n",
       "      <td>2103</td>\n",
       "      <td>Lemarr</td>\n",
       "      <td>Charlesetta</td>\n",
       "      <td>Relativity</td>\n",
       "      <td>NaN</td>\n",
       "      <td>86.0</td>\n",
       "      <td>MSci</td>\n",
       "      <td>Physics</td>\n",
       "    </tr>\n",
       "    <tr>\n",
       "      <th>2</th>\n",
       "      <td>2104</td>\n",
       "      <td>Narron</td>\n",
       "      <td>Elliot</td>\n",
       "      <td>Quantum Mechanics</td>\n",
       "      <td>NaN</td>\n",
       "      <td>72.0</td>\n",
       "      <td>MSci</td>\n",
       "      <td>Physics</td>\n",
       "    </tr>\n",
       "    <tr>\n",
       "      <th>3</th>\n",
       "      <td>2104</td>\n",
       "      <td>Narron</td>\n",
       "      <td>Elliot</td>\n",
       "      <td>Relativity</td>\n",
       "      <td>79.0</td>\n",
       "      <td>NaN</td>\n",
       "      <td>MSci</td>\n",
       "      <td>Physics</td>\n",
       "    </tr>\n",
       "    <tr>\n",
       "      <th>4</th>\n",
       "      <td>2105</td>\n",
       "      <td>Seevers</td>\n",
       "      <td>Josue</td>\n",
       "      <td>Relativity</td>\n",
       "      <td>NaN</td>\n",
       "      <td>57.0</td>\n",
       "      <td>BSc</td>\n",
       "      <td>French with Physics</td>\n",
       "    </tr>\n",
       "    <tr>\n",
       "      <th>5</th>\n",
       "      <td>2106</td>\n",
       "      <td>Zipp</td>\n",
       "      <td>Delbert</td>\n",
       "      <td>Quantum Mechanics</td>\n",
       "      <td>72.0</td>\n",
       "      <td>NaN</td>\n",
       "      <td>BSc</td>\n",
       "      <td>Physics with Maths</td>\n",
       "    </tr>\n",
       "    <tr>\n",
       "      <th>6</th>\n",
       "      <td>2106</td>\n",
       "      <td>Zipp</td>\n",
       "      <td>Delbert</td>\n",
       "      <td>Relativity</td>\n",
       "      <td>30.0</td>\n",
       "      <td>55.0</td>\n",
       "      <td>BSc</td>\n",
       "      <td>Physics with Maths</td>\n",
       "    </tr>\n",
       "    <tr>\n",
       "      <th>7</th>\n",
       "      <td>2107</td>\n",
       "      <td>Tunney</td>\n",
       "      <td>Veola</td>\n",
       "      <td>Quantum Mechanics</td>\n",
       "      <td>NaN</td>\n",
       "      <td>77.0</td>\n",
       "      <td>BSc</td>\n",
       "      <td>Physics with Astrophysics</td>\n",
       "    </tr>\n",
       "    <tr>\n",
       "      <th>8</th>\n",
       "      <td>2107</td>\n",
       "      <td>Tunney</td>\n",
       "      <td>Veola</td>\n",
       "      <td>Relativity</td>\n",
       "      <td>NaN</td>\n",
       "      <td>83.0</td>\n",
       "      <td>BSc</td>\n",
       "      <td>Physics with Astrophysics</td>\n",
       "    </tr>\n",
       "    <tr>\n",
       "      <th>9</th>\n",
       "      <td>2108</td>\n",
       "      <td>Beal</td>\n",
       "      <td>Catalina</td>\n",
       "      <td>Quantum Mechanics</td>\n",
       "      <td>NaN</td>\n",
       "      <td>88.0</td>\n",
       "      <td>MSci</td>\n",
       "      <td>Maths with Physics</td>\n",
       "    </tr>\n",
       "    <tr>\n",
       "      <th>10</th>\n",
       "      <td>2108</td>\n",
       "      <td>Beal</td>\n",
       "      <td>Catalina</td>\n",
       "      <td>Relativity</td>\n",
       "      <td>90.0</td>\n",
       "      <td>NaN</td>\n",
       "      <td>MSci</td>\n",
       "      <td>Maths with Physics</td>\n",
       "    </tr>\n",
       "    <tr>\n",
       "      <th>11</th>\n",
       "      <td>2109</td>\n",
       "      <td>Arjona</td>\n",
       "      <td>Jerome</td>\n",
       "      <td>Quantum Mechanics</td>\n",
       "      <td>NaN</td>\n",
       "      <td>26.0</td>\n",
       "      <td>BSc</td>\n",
       "      <td>Physics with Astrophysics</td>\n",
       "    </tr>\n",
       "  </tbody>\n",
       "</table>\n",
       "</div>"
      ]
     },
     "execution_count": 44,
     "metadata": {},
     "output_type": "execute_result"
    }
   ],
   "execution_count": 44
  },
  {
   "metadata": {
    "ExecuteTime": {
     "end_time": "2025-06-20T12:56:30.530126Z",
     "start_time": "2025-06-20T12:56:30.512076Z"
    }
   },
   "cell_type": "code",
   "source": [
    "#Break the module column in two one for Quantum Mechanics and one for Relativity\n",
    "exam.loc[exam['Module'] == 'Quantum Mechanics', 'Module']\n",
    "exam"
   ],
   "outputs": [
    {
     "data": {
      "text/plain": [
       "    Student Code  Surname     Forename      Module  2019  2020 Degree  \\\n",
       "0           2103   Lemarr  Charlesetta          QM  54.0   NaN   MSci   \n",
       "1           2103   Lemarr  Charlesetta  Relativity   NaN  86.0   MSci   \n",
       "2           2104   Narron       Elliot          QM   NaN  72.0   MSci   \n",
       "3           2104   Narron       Elliot  Relativity  79.0   NaN   MSci   \n",
       "4           2105  Seevers        Josue  Relativity   NaN  57.0    BSc   \n",
       "5           2106     Zipp      Delbert          QM  72.0   NaN    BSc   \n",
       "6           2106     Zipp      Delbert  Relativity  30.0  55.0    BSc   \n",
       "7           2107   Tunney        Veola          QM   NaN  77.0    BSc   \n",
       "8           2107   Tunney        Veola  Relativity   NaN  83.0    BSc   \n",
       "9           2108     Beal     Catalina          QM   NaN  88.0   MSci   \n",
       "10          2108     Beal     Catalina  Relativity  90.0   NaN   MSci   \n",
       "11          2109   Arjona       Jerome          QM   NaN  26.0    BSc   \n",
       "\n",
       "                    Programme  \n",
       "0                     Physics  \n",
       "1                     Physics  \n",
       "2                     Physics  \n",
       "3                     Physics  \n",
       "4         French with Physics  \n",
       "5          Physics with Maths  \n",
       "6          Physics with Maths  \n",
       "7   Physics with Astrophysics  \n",
       "8   Physics with Astrophysics  \n",
       "9          Maths with Physics  \n",
       "10         Maths with Physics  \n",
       "11  Physics with Astrophysics  "
      ],
      "text/html": [
       "<div>\n",
       "<style scoped>\n",
       "    .dataframe tbody tr th:only-of-type {\n",
       "        vertical-align: middle;\n",
       "    }\n",
       "\n",
       "    .dataframe tbody tr th {\n",
       "        vertical-align: top;\n",
       "    }\n",
       "\n",
       "    .dataframe thead th {\n",
       "        text-align: right;\n",
       "    }\n",
       "</style>\n",
       "<table border=\"1\" class=\"dataframe\">\n",
       "  <thead>\n",
       "    <tr style=\"text-align: right;\">\n",
       "      <th></th>\n",
       "      <th>Student Code</th>\n",
       "      <th>Surname</th>\n",
       "      <th>Forename</th>\n",
       "      <th>Module</th>\n",
       "      <th>2019</th>\n",
       "      <th>2020</th>\n",
       "      <th>Degree</th>\n",
       "      <th>Programme</th>\n",
       "    </tr>\n",
       "  </thead>\n",
       "  <tbody>\n",
       "    <tr>\n",
       "      <th>0</th>\n",
       "      <td>2103</td>\n",
       "      <td>Lemarr</td>\n",
       "      <td>Charlesetta</td>\n",
       "      <td>QM</td>\n",
       "      <td>54.0</td>\n",
       "      <td>NaN</td>\n",
       "      <td>MSci</td>\n",
       "      <td>Physics</td>\n",
       "    </tr>\n",
       "    <tr>\n",
       "      <th>1</th>\n",
       "      <td>2103</td>\n",
       "      <td>Lemarr</td>\n",
       "      <td>Charlesetta</td>\n",
       "      <td>Relativity</td>\n",
       "      <td>NaN</td>\n",
       "      <td>86.0</td>\n",
       "      <td>MSci</td>\n",
       "      <td>Physics</td>\n",
       "    </tr>\n",
       "    <tr>\n",
       "      <th>2</th>\n",
       "      <td>2104</td>\n",
       "      <td>Narron</td>\n",
       "      <td>Elliot</td>\n",
       "      <td>QM</td>\n",
       "      <td>NaN</td>\n",
       "      <td>72.0</td>\n",
       "      <td>MSci</td>\n",
       "      <td>Physics</td>\n",
       "    </tr>\n",
       "    <tr>\n",
       "      <th>3</th>\n",
       "      <td>2104</td>\n",
       "      <td>Narron</td>\n",
       "      <td>Elliot</td>\n",
       "      <td>Relativity</td>\n",
       "      <td>79.0</td>\n",
       "      <td>NaN</td>\n",
       "      <td>MSci</td>\n",
       "      <td>Physics</td>\n",
       "    </tr>\n",
       "    <tr>\n",
       "      <th>4</th>\n",
       "      <td>2105</td>\n",
       "      <td>Seevers</td>\n",
       "      <td>Josue</td>\n",
       "      <td>Relativity</td>\n",
       "      <td>NaN</td>\n",
       "      <td>57.0</td>\n",
       "      <td>BSc</td>\n",
       "      <td>French with Physics</td>\n",
       "    </tr>\n",
       "    <tr>\n",
       "      <th>5</th>\n",
       "      <td>2106</td>\n",
       "      <td>Zipp</td>\n",
       "      <td>Delbert</td>\n",
       "      <td>QM</td>\n",
       "      <td>72.0</td>\n",
       "      <td>NaN</td>\n",
       "      <td>BSc</td>\n",
       "      <td>Physics with Maths</td>\n",
       "    </tr>\n",
       "    <tr>\n",
       "      <th>6</th>\n",
       "      <td>2106</td>\n",
       "      <td>Zipp</td>\n",
       "      <td>Delbert</td>\n",
       "      <td>Relativity</td>\n",
       "      <td>30.0</td>\n",
       "      <td>55.0</td>\n",
       "      <td>BSc</td>\n",
       "      <td>Physics with Maths</td>\n",
       "    </tr>\n",
       "    <tr>\n",
       "      <th>7</th>\n",
       "      <td>2107</td>\n",
       "      <td>Tunney</td>\n",
       "      <td>Veola</td>\n",
       "      <td>QM</td>\n",
       "      <td>NaN</td>\n",
       "      <td>77.0</td>\n",
       "      <td>BSc</td>\n",
       "      <td>Physics with Astrophysics</td>\n",
       "    </tr>\n",
       "    <tr>\n",
       "      <th>8</th>\n",
       "      <td>2107</td>\n",
       "      <td>Tunney</td>\n",
       "      <td>Veola</td>\n",
       "      <td>Relativity</td>\n",
       "      <td>NaN</td>\n",
       "      <td>83.0</td>\n",
       "      <td>BSc</td>\n",
       "      <td>Physics with Astrophysics</td>\n",
       "    </tr>\n",
       "    <tr>\n",
       "      <th>9</th>\n",
       "      <td>2108</td>\n",
       "      <td>Beal</td>\n",
       "      <td>Catalina</td>\n",
       "      <td>QM</td>\n",
       "      <td>NaN</td>\n",
       "      <td>88.0</td>\n",
       "      <td>MSci</td>\n",
       "      <td>Maths with Physics</td>\n",
       "    </tr>\n",
       "    <tr>\n",
       "      <th>10</th>\n",
       "      <td>2108</td>\n",
       "      <td>Beal</td>\n",
       "      <td>Catalina</td>\n",
       "      <td>Relativity</td>\n",
       "      <td>90.0</td>\n",
       "      <td>NaN</td>\n",
       "      <td>MSci</td>\n",
       "      <td>Maths with Physics</td>\n",
       "    </tr>\n",
       "    <tr>\n",
       "      <th>11</th>\n",
       "      <td>2109</td>\n",
       "      <td>Arjona</td>\n",
       "      <td>Jerome</td>\n",
       "      <td>QM</td>\n",
       "      <td>NaN</td>\n",
       "      <td>26.0</td>\n",
       "      <td>BSc</td>\n",
       "      <td>Physics with Astrophysics</td>\n",
       "    </tr>\n",
       "  </tbody>\n",
       "</table>\n",
       "</div>"
      ]
     },
     "execution_count": 41,
     "metadata": {},
     "output_type": "execute_result"
    }
   ],
   "execution_count": 41
  },
  {
   "cell_type": "markdown",
   "metadata": {},
   "source": [
    "3. Using your tidied data, answer the following questions:"
   ]
  },
  {
   "cell_type": "markdown",
   "metadata": {},
   "source": [
    "* For MSci students, what is the mean grade for the Relativity exam?"
   ]
  },
  {
   "cell_type": "code",
   "metadata": {
    "ExecuteTime": {
     "end_time": "2025-06-20T11:28:59.310203Z",
     "start_time": "2025-06-20T11:28:58.781925Z"
    }
   },
   "source": "",
   "outputs": [
    {
     "ename": "KeyError",
     "evalue": "'Exam'",
     "output_type": "error",
     "traceback": [
      "\u001B[31m---------------------------------------------------------------------------\u001B[39m",
      "\u001B[31mKeyError\u001B[39m                                  Traceback (most recent call last)",
      "\u001B[36mCell\u001B[39m\u001B[36m \u001B[39m\u001B[32mIn[10]\u001B[39m\u001B[32m, line 1\u001B[39m\n\u001B[32m----> \u001B[39m\u001B[32m1\u001B[39m \u001B[43mexam\u001B[49m\u001B[43m[\u001B[49m\u001B[43mexam\u001B[49m\u001B[43m[\u001B[49m\u001B[33;43m\"\u001B[39;49m\u001B[33;43mDegree Programme\u001B[39;49m\u001B[33;43m\"\u001B[39;49m\u001B[43m]\u001B[49m\u001B[43m \u001B[49m\u001B[43m==\u001B[49m\u001B[43m \u001B[49m\u001B[33;43m\"\u001B[39;49m\u001B[33;43mMSci\u001B[39;49m\u001B[33;43m\"\u001B[39;49m\u001B[43m]\u001B[49m\u001B[43m.\u001B[49m\u001B[43mgroupby\u001B[49m\u001B[43m(\u001B[49m\u001B[33;43m\"\u001B[39;49m\u001B[33;43mExam\u001B[39;49m\u001B[33;43m\"\u001B[39;49m\u001B[43m)\u001B[49m[\u001B[33m\"\u001B[39m\u001B[33mGrade\u001B[39m\u001B[33m\"\u001B[39m].mean().loc[\u001B[33m\"\u001B[39m\u001B[33mRelativity\u001B[39m\u001B[33m\"\u001B[39m]\n",
      "\u001B[36mFile \u001B[39m\u001B[32m~\\AppData\\Roaming\\Python\\Python312\\site-packages\\pandas\\core\\frame.py:9183\u001B[39m, in \u001B[36mDataFrame.groupby\u001B[39m\u001B[34m(self, by, axis, level, as_index, sort, group_keys, observed, dropna)\u001B[39m\n\u001B[32m   9180\u001B[39m \u001B[38;5;28;01mif\u001B[39;00m level \u001B[38;5;129;01mis\u001B[39;00m \u001B[38;5;28;01mNone\u001B[39;00m \u001B[38;5;129;01mand\u001B[39;00m by \u001B[38;5;129;01mis\u001B[39;00m \u001B[38;5;28;01mNone\u001B[39;00m:\n\u001B[32m   9181\u001B[39m     \u001B[38;5;28;01mraise\u001B[39;00m \u001B[38;5;167;01mTypeError\u001B[39;00m(\u001B[33m\"\u001B[39m\u001B[33mYou have to supply one of \u001B[39m\u001B[33m'\u001B[39m\u001B[33mby\u001B[39m\u001B[33m'\u001B[39m\u001B[33m and \u001B[39m\u001B[33m'\u001B[39m\u001B[33mlevel\u001B[39m\u001B[33m'\u001B[39m\u001B[33m\"\u001B[39m)\n\u001B[32m-> \u001B[39m\u001B[32m9183\u001B[39m \u001B[38;5;28;01mreturn\u001B[39;00m \u001B[43mDataFrameGroupBy\u001B[49m\u001B[43m(\u001B[49m\n\u001B[32m   9184\u001B[39m \u001B[43m    \u001B[49m\u001B[43mobj\u001B[49m\u001B[43m=\u001B[49m\u001B[38;5;28;43mself\u001B[39;49m\u001B[43m,\u001B[49m\n\u001B[32m   9185\u001B[39m \u001B[43m    \u001B[49m\u001B[43mkeys\u001B[49m\u001B[43m=\u001B[49m\u001B[43mby\u001B[49m\u001B[43m,\u001B[49m\n\u001B[32m   9186\u001B[39m \u001B[43m    \u001B[49m\u001B[43maxis\u001B[49m\u001B[43m=\u001B[49m\u001B[43maxis\u001B[49m\u001B[43m,\u001B[49m\n\u001B[32m   9187\u001B[39m \u001B[43m    \u001B[49m\u001B[43mlevel\u001B[49m\u001B[43m=\u001B[49m\u001B[43mlevel\u001B[49m\u001B[43m,\u001B[49m\n\u001B[32m   9188\u001B[39m \u001B[43m    \u001B[49m\u001B[43mas_index\u001B[49m\u001B[43m=\u001B[49m\u001B[43mas_index\u001B[49m\u001B[43m,\u001B[49m\n\u001B[32m   9189\u001B[39m \u001B[43m    \u001B[49m\u001B[43msort\u001B[49m\u001B[43m=\u001B[49m\u001B[43msort\u001B[49m\u001B[43m,\u001B[49m\n\u001B[32m   9190\u001B[39m \u001B[43m    \u001B[49m\u001B[43mgroup_keys\u001B[49m\u001B[43m=\u001B[49m\u001B[43mgroup_keys\u001B[49m\u001B[43m,\u001B[49m\n\u001B[32m   9191\u001B[39m \u001B[43m    \u001B[49m\u001B[43mobserved\u001B[49m\u001B[43m=\u001B[49m\u001B[43mobserved\u001B[49m\u001B[43m,\u001B[49m\n\u001B[32m   9192\u001B[39m \u001B[43m    \u001B[49m\u001B[43mdropna\u001B[49m\u001B[43m=\u001B[49m\u001B[43mdropna\u001B[49m\u001B[43m,\u001B[49m\n\u001B[32m   9193\u001B[39m \u001B[43m\u001B[49m\u001B[43m)\u001B[49m\n",
      "\u001B[36mFile \u001B[39m\u001B[32m~\\AppData\\Roaming\\Python\\Python312\\site-packages\\pandas\\core\\groupby\\groupby.py:1329\u001B[39m, in \u001B[36mGroupBy.__init__\u001B[39m\u001B[34m(self, obj, keys, axis, level, grouper, exclusions, selection, as_index, sort, group_keys, observed, dropna)\u001B[39m\n\u001B[32m   1326\u001B[39m \u001B[38;5;28mself\u001B[39m.dropna = dropna\n\u001B[32m   1328\u001B[39m \u001B[38;5;28;01mif\u001B[39;00m grouper \u001B[38;5;129;01mis\u001B[39;00m \u001B[38;5;28;01mNone\u001B[39;00m:\n\u001B[32m-> \u001B[39m\u001B[32m1329\u001B[39m     grouper, exclusions, obj = \u001B[43mget_grouper\u001B[49m\u001B[43m(\u001B[49m\n\u001B[32m   1330\u001B[39m \u001B[43m        \u001B[49m\u001B[43mobj\u001B[49m\u001B[43m,\u001B[49m\n\u001B[32m   1331\u001B[39m \u001B[43m        \u001B[49m\u001B[43mkeys\u001B[49m\u001B[43m,\u001B[49m\n\u001B[32m   1332\u001B[39m \u001B[43m        \u001B[49m\u001B[43maxis\u001B[49m\u001B[43m=\u001B[49m\u001B[43maxis\u001B[49m\u001B[43m,\u001B[49m\n\u001B[32m   1333\u001B[39m \u001B[43m        \u001B[49m\u001B[43mlevel\u001B[49m\u001B[43m=\u001B[49m\u001B[43mlevel\u001B[49m\u001B[43m,\u001B[49m\n\u001B[32m   1334\u001B[39m \u001B[43m        \u001B[49m\u001B[43msort\u001B[49m\u001B[43m=\u001B[49m\u001B[43msort\u001B[49m\u001B[43m,\u001B[49m\n\u001B[32m   1335\u001B[39m \u001B[43m        \u001B[49m\u001B[43mobserved\u001B[49m\u001B[43m=\u001B[49m\u001B[38;5;28;43;01mFalse\u001B[39;49;00m\u001B[43m \u001B[49m\u001B[38;5;28;43;01mif\u001B[39;49;00m\u001B[43m \u001B[49m\u001B[43mobserved\u001B[49m\u001B[43m \u001B[49m\u001B[38;5;129;43;01mis\u001B[39;49;00m\u001B[43m \u001B[49m\u001B[43mlib\u001B[49m\u001B[43m.\u001B[49m\u001B[43mno_default\u001B[49m\u001B[43m \u001B[49m\u001B[38;5;28;43;01melse\u001B[39;49;00m\u001B[43m \u001B[49m\u001B[43mobserved\u001B[49m\u001B[43m,\u001B[49m\n\u001B[32m   1336\u001B[39m \u001B[43m        \u001B[49m\u001B[43mdropna\u001B[49m\u001B[43m=\u001B[49m\u001B[38;5;28;43mself\u001B[39;49m\u001B[43m.\u001B[49m\u001B[43mdropna\u001B[49m\u001B[43m,\u001B[49m\n\u001B[32m   1337\u001B[39m \u001B[43m    \u001B[49m\u001B[43m)\u001B[49m\n\u001B[32m   1339\u001B[39m \u001B[38;5;28;01mif\u001B[39;00m observed \u001B[38;5;129;01mis\u001B[39;00m lib.no_default:\n\u001B[32m   1340\u001B[39m     \u001B[38;5;28;01mif\u001B[39;00m \u001B[38;5;28many\u001B[39m(ping._passed_categorical \u001B[38;5;28;01mfor\u001B[39;00m ping \u001B[38;5;129;01min\u001B[39;00m grouper.groupings):\n",
      "\u001B[36mFile \u001B[39m\u001B[32m~\\AppData\\Roaming\\Python\\Python312\\site-packages\\pandas\\core\\groupby\\grouper.py:1043\u001B[39m, in \u001B[36mget_grouper\u001B[39m\u001B[34m(obj, key, axis, level, sort, observed, validate, dropna)\u001B[39m\n\u001B[32m   1041\u001B[39m         in_axis, level, gpr = \u001B[38;5;28;01mFalse\u001B[39;00m, gpr, \u001B[38;5;28;01mNone\u001B[39;00m\n\u001B[32m   1042\u001B[39m     \u001B[38;5;28;01melse\u001B[39;00m:\n\u001B[32m-> \u001B[39m\u001B[32m1043\u001B[39m         \u001B[38;5;28;01mraise\u001B[39;00m \u001B[38;5;167;01mKeyError\u001B[39;00m(gpr)\n\u001B[32m   1044\u001B[39m \u001B[38;5;28;01melif\u001B[39;00m \u001B[38;5;28misinstance\u001B[39m(gpr, Grouper) \u001B[38;5;129;01mand\u001B[39;00m gpr.key \u001B[38;5;129;01mis\u001B[39;00m \u001B[38;5;129;01mnot\u001B[39;00m \u001B[38;5;28;01mNone\u001B[39;00m:\n\u001B[32m   1045\u001B[39m     \u001B[38;5;66;03m# Add key to exclusions\u001B[39;00m\n\u001B[32m   1046\u001B[39m     exclusions.add(gpr.key)\n",
      "\u001B[31mKeyError\u001B[39m: 'Exam'"
     ]
    }
   ],
   "execution_count": 10
  },
  {
   "cell_type": "markdown",
   "metadata": {},
   "source": [
    "* What proportion of the students are taking Physics as their major subject?"
   ]
  },
  {
   "cell_type": "code",
   "execution_count": null,
   "metadata": {},
   "outputs": [],
   "source": []
  },
  {
   "cell_type": "markdown",
   "metadata": {},
   "source": [
    "***"
   ]
  }
 ],
 "metadata": {
  "kernelspec": {
   "display_name": "Python 3 (ipykernel)",
   "language": "python",
   "name": "python3"
  },
  "language_info": {
   "codemirror_mode": {
    "name": "ipython",
    "version": 3
   },
   "file_extension": ".py",
   "mimetype": "text/x-python",
   "name": "python",
   "nbconvert_exporter": "python",
   "pygments_lexer": "ipython3",
   "version": "3.8.16"
  }
 },
 "nbformat": 4,
 "nbformat_minor": 4
}
